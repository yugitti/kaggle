{
 "cells": [
  {
   "cell_type": "code",
   "execution_count": 1,
   "metadata": {},
   "outputs": [],
   "source": [
    "import numpy as np\n",
    "import matplotlib.pyplot as plt\n",
    "import pandas as pd\n",
    "import xgboost as xgb\n",
    "import seaborn as sns\n",
    "from sklearn.model_selection import GridSearchCV\n",
    "from sklearn.model_selection import train_test_split\n",
    "import sklearn.metrics as metrics\n",
    "import missingno as msno\n",
    "from sklearn.ensemble import RandomForestRegressor\n",
    "\n",
    "custom_style = {'axes.labelcolor': 'white',\n",
    "                'xtick.color': 'white',\n",
    "                'ytick.color': 'white'}\n",
    "sns.set_style(\"darkgrid\", rc=custom_style)\n",
    "plt.style.use('dark_background')\n",
    "\n",
    "%precision 3\n",
    "%matplotlib inline"
   ]
  },
  {
   "cell_type": "markdown",
   "metadata": {},
   "source": [
    "#### データの読み込み"
   ]
  },
  {
   "cell_type": "code",
   "execution_count": 2,
   "metadata": {},
   "outputs": [],
   "source": [
    "df = pd.read_csv(\"./train.csv\", parse_dates=[\"datetime\"])\n",
    "df_test = pd.read_csv(\"./test.csv\", parse_dates=[\"datetime\"])\n",
    "data = df.append(df_test, sort=False)"
   ]
  },
  {
   "cell_type": "markdown",
   "metadata": {},
   "source": [
    "#### feature engineering"
   ]
  },
  {
   "cell_type": "code",
   "execution_count": 3,
   "metadata": {},
   "outputs": [],
   "source": [
    "data[\"year\"] = data[\"datetime\"].dt.year\n",
    "data[\"month\"] = data[\"datetime\"].dt.month\n",
    "data[\"day\"] = data[\"datetime\"].dt.day\n",
    "data[\"dayofweek\"] = data[\"datetime\"].dt.dayofweek\n",
    "data[\"hour\"] = data[\"datetime\"].dt.hour"
   ]
  },
  {
   "cell_type": "markdown",
   "metadata": {},
   "source": [
    "#### RandomForestを使って windowspeed = 0 を穴埋め"
   ]
  },
  {
   "cell_type": "code",
   "execution_count": 4,
   "metadata": {},
   "outputs": [],
   "source": [
    "pick = ['season', 'weather', 'temp','atemp', 'humidity', 'month', 'year']\n",
    "reg = RandomForestRegressor()\n",
    "win0 = data[data[\"windspeed\"] == 0].copy()\n",
    "winNot0 = data[data[\"windspeed\"] != 0].copy()\n",
    "reg.fit(X=winNot0[pick], y=winNot0[\"windspeed\"])\n",
    "win0Value= reg.predict(win0[pick])\n",
    "win0.loc[:,\"windspeed\"] = win0Value\n",
    "data = winNot0.append(win0,sort=False)"
   ]
  },
  {
   "cell_type": "markdown",
   "metadata": {},
   "source": [
    "#### データ種別の定義"
   ]
  },
  {
   "cell_type": "code",
   "execution_count": 5,
   "metadata": {},
   "outputs": [],
   "source": [
    "categoricalFeatureNames = [\"season\",\"holiday\",\"workingday\",\"weather\",\"dayofweek\",\"month\",\"year\",\"hour\"]\n",
    "numericalFeatureNames = [\"temp\",\"humidity\",\"windspeed\",\"atemp\"]\n",
    "dropFeatures = ['casual',\"count\",\"datetime\",\"registered\"]\n",
    "for var in categoricalFeatureNames:\n",
    "    data[var] = data[var].astype(\"category\")"
   ]
  },
  {
   "cell_type": "markdown",
   "metadata": {},
   "source": [
    "#### Train / Test に分割"
   ]
  },
  {
   "cell_type": "code",
   "execution_count": 6,
   "metadata": {},
   "outputs": [],
   "source": [
    "dataTrain = data[pd.notnull(data[\"count\"])].sort_values(by=\"datetime\")\n",
    "dataTest = data[~pd.notnull(data[\"count\"])].sort_values(by=\"datetime\")"
   ]
  },
  {
   "cell_type": "code",
   "execution_count": 7,
   "metadata": {},
   "outputs": [],
   "source": [
    "datatimecol = dataTest[\"datetime\"]\n",
    "yLabels = dataTrain[\"count\"]\n",
    "yLabelsRegistered = dataTrain[\"registered\"]\n",
    "yLabelCasual = dataTrain[\"casual\"]"
   ]
  },
  {
   "cell_type": "markdown",
   "metadata": {},
   "source": [
    "#### 不要なデータを削除"
   ]
  },
  {
   "cell_type": "code",
   "execution_count": 8,
   "metadata": {},
   "outputs": [],
   "source": [
    "dataTrain = dataTrain.drop(dropFeatures,axis=1)\n",
    "dataTest = dataTest.drop(dropFeatures,axis=1)"
   ]
  },
  {
   "cell_type": "markdown",
   "metadata": {},
   "source": [
    "#### 評価指標としてRMSLE(Root Mean Squared Log Error)を追加\n",
    "$RMSLE = \\sqrt{\\frac{1}{N} \\sum^{n}_{i=0}(log(y_i + 1) - log(y'_{i} + 1))^2}$"
   ]
  },
  {
   "cell_type": "code",
   "execution_count": 9,
   "metadata": {},
   "outputs": [],
   "source": [
    "def rmsle(y, y_, convertExp=True):\n",
    "    if convertExp:\n",
    "        y = np.exp(y)\n",
    "        y_ = np.exp(y_)\n",
    "    \n",
    "    log1 = np.nan_to_num(np.array([np.log(v+1) for v in y]))\n",
    "    log2 = np.nan_to_num(np.array([np.log(v+1) for v in y_]))\n",
    "    calc = np.sqrt(np.mean((log1 - log2)**2))\n",
    "    return calc\n",
    "        "
   ]
  },
  {
   "cell_type": "markdown",
   "metadata": {},
   "source": [
    "#### Linear Regression Model"
   ]
  },
  {
   "cell_type": "code",
   "execution_count": 10,
   "metadata": {},
   "outputs": [],
   "source": [
    "from sklearn.linear_model import LinearRegression, Ridge, Lasso\n",
    "from sklearn.model_selection import GridSearchCV\n",
    "from sklearn import metrics\n",
    "import warnings\n",
    "pd.options.mode.chained_assignment = None\n",
    "warnings.filterwarnings(\"ignore\", category=DeprecationWarning)"
   ]
  },
  {
   "cell_type": "code",
   "execution_count": null,
   "metadata": {},
   "outputs": [],
   "source": [
    "y = np.log1p(yLabels)\n",
    "lr = LinearRegression()\n",
    "lr.fit(X=dataTrain, y=y)\n",
    "pred = lr.predict(dataTrain)\n",
    "lr_rmsle = rmsle(y, pred, True)\n",
    "print(\"RMSLE = {}\".format(lr_rmsle))"
   ]
  },
  {
   "cell_type": "code",
   "execution_count": null,
   "metadata": {},
   "outputs": [],
   "source": []
  }
 ],
 "metadata": {
  "kernelspec": {
   "display_name": "Python 3",
   "language": "python",
   "name": "python3"
  },
  "language_info": {
   "codemirror_mode": {
    "name": "ipython",
    "version": 3
   },
   "file_extension": ".py",
   "mimetype": "text/x-python",
   "name": "python",
   "nbconvert_exporter": "python",
   "pygments_lexer": "ipython3",
   "version": "3.6.6"
  }
 },
 "nbformat": 4,
 "nbformat_minor": 2
}
