{
 "cells": [
  {
   "cell_type": "code",
   "execution_count": 1,
   "metadata": {},
   "outputs": [],
   "source": [
    "import numpy as np\n",
    "import matplotlib.pyplot as plt\n",
    "import pandas as pd\n",
    "import xgboost as xgb\n",
    "import seaborn as sns\n",
    "from sklearn.model_selection import GridSearchCV\n",
    "from sklearn.model_selection import train_test_split\n",
    "import sklearn.metrics as metrics\n",
    "import missingno as msno\n",
    "from sklearn.ensemble import RandomForestRegressor\n",
    "\n",
    "custom_style = {'axes.labelcolor': 'white',\n",
    "                'xtick.color': 'white',\n",
    "                'ytick.color': 'white'}\n",
    "sns.set_style(\"darkgrid\", rc=custom_style)\n",
    "plt.style.use('dark_background')\n",
    "\n",
    "%precision 3\n",
    "%matplotlib inline"
   ]
  },
  {
   "cell_type": "markdown",
   "metadata": {},
   "source": [
    "#### データの読み込み"
   ]
  },
  {
   "cell_type": "code",
   "execution_count": 2,
   "metadata": {},
   "outputs": [],
   "source": [
    "df = pd.read_csv(\"./train.csv\", parse_dates=[\"datetime\"])\n",
    "df_test = pd.read_csv(\"./test.csv\", parse_dates=[\"datetime\"])\n",
    "data = df.append(df_test, sort=False)"
   ]
  },
  {
   "cell_type": "markdown",
   "metadata": {},
   "source": [
    "#### feature engineering"
   ]
  },
  {
   "cell_type": "code",
   "execution_count": 3,
   "metadata": {},
   "outputs": [],
   "source": [
    "data[\"year\"] = data[\"datetime\"].dt.year\n",
    "data[\"month\"] = data[\"datetime\"].dt.month\n",
    "data[\"day\"] = data[\"datetime\"].dt.day\n",
    "data[\"dayofweek\"] = data[\"datetime\"].dt.dayofweek\n",
    "data[\"hour\"] = data[\"datetime\"].dt.hour"
   ]
  },
  {
   "cell_type": "markdown",
   "metadata": {},
   "source": [
    "#### RandomForestを使って windowspeed = 0 を穴埋め"
   ]
  },
  {
   "cell_type": "code",
   "execution_count": 4,
   "metadata": {},
   "outputs": [],
   "source": [
    "pick = ['season', 'weather', 'temp','atemp', 'humidity', 'month', 'year']\n",
    "reg = RandomForestRegressor()\n",
    "win0 = data[data[\"windspeed\"] == 0].copy()\n",
    "winNot0 = data[data[\"windspeed\"] != 0].copy()\n",
    "reg.fit(X=winNot0[pick], y=winNot0[\"windspeed\"])\n",
    "win0Value= reg.predict(win0[pick])\n",
    "win0.loc[:,\"windspeed\"] = win0Value\n",
    "data = winNot0.append(win0,sort=False)"
   ]
  },
  {
   "cell_type": "markdown",
   "metadata": {},
   "source": [
    "#### データ種別の定義"
   ]
  },
  {
   "cell_type": "code",
   "execution_count": 5,
   "metadata": {},
   "outputs": [],
   "source": [
    "categoricalFeatureNames = [\"season\",\"holiday\",\"workingday\",\"weather\",\"dayofweek\",\"month\",\"year\",\"hour\"]\n",
    "numericalFeatureNames = [\"temp\",\"humidity\",\"windspeed\",\"atemp\"]\n",
    "dropFeatures = ['casual',\"count\",\"datetime\",\"registered\"]\n",
    "for var in categoricalFeatureNames:\n",
    "    data[var] = data[var].astype(\"category\")"
   ]
  },
  {
   "cell_type": "markdown",
   "metadata": {},
   "source": [
    "#### Train / Test に分割"
   ]
  },
  {
   "cell_type": "code",
   "execution_count": 6,
   "metadata": {},
   "outputs": [],
   "source": [
    "dataTrain = data[pd.notnull(data[\"count\"])].sort_values(by=\"datetime\")\n",
    "dataTest = data[~pd.notnull(data[\"count\"])].sort_values(by=\"datetime\")"
   ]
  },
  {
   "cell_type": "code",
   "execution_count": 7,
   "metadata": {},
   "outputs": [],
   "source": [
    "datatimecol = dataTest[\"datetime\"]\n",
    "yLabels = dataTrain[\"count\"]\n",
    "yLabelsRegistered = dataTrain[\"registered\"]\n",
    "yLabelCasual = dataTrain[\"casual\"]"
   ]
  },
  {
   "cell_type": "markdown",
   "metadata": {},
   "source": [
    "#### 不要なデータを削除"
   ]
  },
  {
   "cell_type": "code",
   "execution_count": 8,
   "metadata": {},
   "outputs": [],
   "source": [
    "dataTrain = dataTrain.drop(dropFeatures,axis=1)\n",
    "dataTest = dataTest.drop(dropFeatures,axis=1)"
   ]
  },
  {
   "cell_type": "markdown",
   "metadata": {},
   "source": [
    "#### 評価指標としてRMSLE(Root Mean Squared Log Error)を追加\n",
    "$RMSLE = \\sqrt{\\frac{1}{N} \\sum^{n}_{i=0}(log(y_i + 1) - log(y'_{i} + 1))^2}$"
   ]
  },
  {
   "cell_type": "code",
   "execution_count": 9,
   "metadata": {},
   "outputs": [],
   "source": [
    "def rmsle(y, y_, convertExp=True):\n",
    "    if convertExp:\n",
    "        y = np.exp(y)\n",
    "        y_ = np.exp(y_)\n",
    "    \n",
    "    log1 = np.nan_to_num(np.array([np.log(v+1) for v in y]))\n",
    "    log2 = np.nan_to_num(np.array([np.log(v+1) for v in y_]))\n",
    "    calc = np.sqrt(np.mean((log1 - log2)**2))\n",
    "    return calc\n",
    "        "
   ]
  },
  {
   "cell_type": "code",
   "execution_count": 10,
   "metadata": {},
   "outputs": [],
   "source": [
    "def mse(y, y_, convertExp=True):\n",
    "    return np.sqrt(np.mean(y - y_)**2)"
   ]
  },
  {
   "cell_type": "markdown",
   "metadata": {},
   "source": [
    "#### Linear Regression Model"
   ]
  },
  {
   "cell_type": "code",
   "execution_count": 39,
   "metadata": {},
   "outputs": [],
   "source": [
    "class myLinearRegression(object):\n",
    "    def __init__(self, eta=0.01, n_iter=10, verbose=True):\n",
    "        self.eta = eta\n",
    "        self.n_iter = n_iter\n",
    "        self.verbose = verbose\n",
    "    \n",
    "    def fit(self, X, y):\n",
    "        self.w_ = np.ones(1 + X.shape[1])\n",
    "        self.cost = []\n",
    "        for i in range(self.n_iter):\n",
    "            output = np.dot(X, self.w_[1:] + self.w_[0])\n",
    "            errors = y - output\n",
    "            self.w_[1:] += self.eta * X.T.dot(errors)\n",
    "            self.w_[0] += self.eta * errors.sum()\n",
    "            cost = (errors*2).sum() / 2.0\n",
    "            if self.verbose == True and i%10 == 0:\n",
    "                print(\"ITER=[{}]: ERROR:[{}]\".format(i, cost))\n",
    "            \n",
    "            self.cost.append(cost)\n",
    "        return self\n",
    "    \n",
    "    def net_input(self, X):\n",
    "        return np.dot(X, self.w_[1:] + self.w_[0])\n",
    "    \n",
    "    def predict(self, X):\n",
    "        return self.net_input(X)"
   ]
  },
  {
   "cell_type": "code",
   "execution_count": 52,
   "metadata": {},
   "outputs": [
    {
     "data": {
      "text/plain": [
       "(10886, 1)"
      ]
     },
     "execution_count": 52,
     "metadata": {},
     "output_type": "execute_result"
    }
   ],
   "source": [
    "y[:, np.newaxis].shape"
   ]
  },
  {
   "cell_type": "code",
   "execution_count": 57,
   "metadata": {},
   "outputs": [],
   "source": [
    "from sklearn.preprocessing import StandardScaler\n",
    "sc_X = StandardScaler()\n",
    "sc_Y = StandardScaler()\n",
    "X_std = sc_X.fit_transform(dataTrain)\n",
    "y_std = sc_Y.fit_transform(y[:, np.newaxis]).flatten()"
   ]
  },
  {
   "cell_type": "code",
   "execution_count": 58,
   "metadata": {},
   "outputs": [],
   "source": [
    "mylr = myLinearRegression(eta=0.00001, n_iter=100)"
   ]
  },
  {
   "cell_type": "code",
   "execution_count": 60,
   "metadata": {},
   "outputs": [
    {
     "name": "stdout",
     "output_type": "stream",
     "text": [
      "ITER=[0]: ERROR:[-4.4674379751086235e-09]\n",
      "ITER=[10]: ERROR:[-1.7853380995802581e-09]\n",
      "ITER=[20]: ERROR:[-8.990355127025396e-10]\n",
      "ITER=[30]: ERROR:[-5.75596459384542e-10]\n",
      "ITER=[40]: ERROR:[-4.4943249122297857e-10]\n",
      "ITER=[50]: ERROR:[-3.9696601561445277e-10]\n",
      "ITER=[60]: ERROR:[-3.7334757507778704e-10]\n",
      "ITER=[70]: ERROR:[-3.6018832361151e-10]\n",
      "ITER=[80]: ERROR:[-3.532818482199218e-10]\n",
      "ITER=[90]: ERROR:[-3.48791218129918e-10]\n"
     ]
    },
    {
     "data": {
      "text/plain": [
       "<__main__.myLinearRegression at 0x1c18e08be0>"
      ]
     },
     "execution_count": 60,
     "metadata": {},
     "output_type": "execute_result"
    }
   ],
   "source": [
    "# mylr.fit(X_std, y_std)"
   ]
  },
  {
   "cell_type": "code",
   "execution_count": 61,
   "metadata": {},
   "outputs": [],
   "source": [
    "from sklearn.linear_model import LinearRegression, Ridge, Lasso\n",
    "from sklearn.model_selection import GridSearchCV\n",
    "from sklearn import metrics\n",
    "import statsmodels.api as sm\n",
    "import warnings\n",
    "pd.options.mode.chained_assignment = None\n",
    "warnings.filterwarnings(\"ignore\", category=DeprecationWarning)"
   ]
  },
  {
   "cell_type": "code",
   "execution_count": null,
   "metadata": {},
   "outputs": [],
   "source": [
    "y = np.log1p(yLabels)\n",
    "lr = LinearRegression(normalize=True,n_jobs=-1)\n",
    "lr.fit(X=X_std[:1000], y=y_std[:1000])\n",
    "pred = lr.predict(dataTrain)\n",
    "lr_rmsle = rmsle(y, pred, True)\n",
    "print(\"RMSLE = {}\".format(lr_rmsle))"
   ]
  },
  {
   "cell_type": "markdown",
   "metadata": {},
   "source": [
    "#### Ridge Regression"
   ]
  },
  {
   "cell_type": "code",
   "execution_count": 27,
   "metadata": {},
   "outputs": [],
   "source": [
    "y = np.log1p(yLabels)\n",
    "lr_ridge = Ridge()\n",
    "ridge_params = {'max_iter': [3000], \n",
    "                'alpha': [0.1, 1, 2, 3, 4, 10, 30, 100, 200, 300, 400, 800, 900, 1000]}\n",
    "rmsle_score = metrics.make_scorer(rmsle, greater_is_better=False)\n",
    "# mse_score = metrics.make_scorer(metrics.mean_squared_error, greater_is_better=False)"
   ]
  },
  {
   "cell_type": "code",
   "execution_count": 29,
   "metadata": {},
   "outputs": [
    {
     "data": {
      "text/plain": [
       "GridSearchCV(cv=5, error_score='raise',\n",
       "       estimator=Ridge(alpha=1.0, copy_X=True, fit_intercept=True, max_iter=None,\n",
       "   normalize=False, random_state=None, solver='auto', tol=0.001),\n",
       "       fit_params=None, iid=True, n_jobs=1,\n",
       "       param_grid={'max_iter': [3000], 'alpha': [0.1, 1, 2, 3, 4, 10, 30, 100, 200, 300, 400, 800, 900, 1000]},\n",
       "       pre_dispatch='2*n_jobs', refit=True, return_train_score='warn',\n",
       "       scoring=make_scorer(rmsle, greater_is_better=False), verbose=0)"
      ]
     },
     "execution_count": 29,
     "metadata": {},
     "output_type": "execute_result"
    }
   ],
   "source": [
    "grid_ridge_m = GridSearchCV(lr_ridge, ridge_params, scoring=rmsle_score, cv=5)\n",
    "grid_ridge_m.fit(dataTrain, y)"
   ]
  },
  {
   "cell_type": "code",
   "execution_count": 30,
   "metadata": {},
   "outputs": [
    {
     "data": {
      "text/plain": [
       "<matplotlib.axes._subplots.AxesSubplot at 0x110136be0>"
      ]
     },
     "execution_count": 30,
     "metadata": {},
     "output_type": "execute_result"
    },
    {
     "data": {
      "image/png": "[encoded data removed]",
      "text/plain": [
       "<Figure size 720x360 with 1 Axes>"
      ]
     },
     "metadata": {
      "needs_background": "dark"
     },
     "output_type": "display_data"
    }
   ],
   "source": [
    "alphas = pd.DataFrame(grid_ridge_m.grid_scores_)['parameters'].apply(lambda s: s['alpha'])\n",
    "scores = pd.DataFrame(grid_ridge_m.grid_scores_)['mean_validation_score']*-1\n",
    "plt.figure(figsize=(10,5))\n",
    "sns.pointplot(alphas, scores,color=\"yellowgreen\")"
   ]
  },
  {
   "cell_type": "code",
   "execution_count": 32,
   "metadata": {},
   "outputs": [
    {
     "name": "stdout",
     "output_type": "stream",
     "text": [
      "{'alpha': 0.1, 'max_iter': 3000}\n",
      "RMSLE Value For Ridge Regression:  0.9778186102848435\n"
     ]
    }
   ],
   "source": [
    "pred = grid_ridge_m.predict(dataTrain)\n",
    "print (grid_ridge_m.best_params_)\n",
    "print (\"RMSLE Value For Ridge Regression: \",rmsle(np.exp(y),np.exp(pred),False))"
   ]
  },
  {
   "cell_type": "code",
   "execution_count": null,
   "metadata": {},
   "outputs": [],
   "source": []
  }
 ],
 "metadata": {
  "kernelspec": {
   "display_name": "Python 3",
   "language": "python",
   "name": "python3"
  },
  "language_info": {
   "codemirror_mode": {
    "name": "ipython",
    "version": 3
   },
   "file_extension": ".py",
   "mimetype": "text/x-python",
   "name": "python",
   "nbconvert_exporter": "python",
   "pygments_lexer": "ipython3",
   "version": "3.6.6"
  }
 },
 "nbformat": 4,
 "nbformat_minor": 2
}
